{
  "nbformat": 4,
  "nbformat_minor": 0,
  "metadata": {
    "colab": {
      "name": "code",
      "provenance": [],
      "collapsed_sections": []
    },
    "kernelspec": {
      "name": "python3",
      "display_name": "Python 3"
    },
    "language_info": {
      "name": "python"
    }
  },
  "cells": [
    {
      "cell_type": "code",
      "source": [
        "import cmath\n",
        "\n",
        "num = 1+2j\n",
        "\n",
        "# To take input from the user\n",
        "#num = eval(input('Enter a number: '))\n",
        "\n",
        "num_sqrt = cmath.sqrt(num)\n",
        "print('The square root of {0} is {1:0.3f}+{2:0.3f}j'.format(num ,num_sqrt.real,num_sqrt.imag))"
      ],
      "metadata": {
        "id": "rjgprN0-HhT_"
      },
      "execution_count": null,
      "outputs": []
    }
  ]
}